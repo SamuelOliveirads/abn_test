{
 "cells": [
  {
   "cell_type": "markdown",
   "metadata": {},
   "source": [
    "# Test A/B/n"
   ]
  },
  {
   "cell_type": "markdown",
   "metadata": {},
   "source": [
    "# 1.0 Imports"
   ]
  },
  {
   "cell_type": "code",
   "execution_count": 11,
   "metadata": {},
   "outputs": [],
   "source": [
    "import numpy as np\n",
    "import pandas as pd\n",
    "from statsmodels.stats.gof import chisquare_effectsize\n",
    "from statsmodels.stats.power import GofChisquarePower"
   ]
  },
  {
   "cell_type": "code",
   "execution_count": 13,
   "metadata": {},
   "outputs": [
    {
     "data": {
      "text/html": [
       "<div>\n",
       "<style scoped>\n",
       "    .dataframe tbody tr th:only-of-type {\n",
       "        vertical-align: middle;\n",
       "    }\n",
       "\n",
       "    .dataframe tbody tr th {\n",
       "        vertical-align: top;\n",
       "    }\n",
       "\n",
       "    .dataframe thead th {\n",
       "        text-align: right;\n",
       "    }\n",
       "</style>\n",
       "<table border=\"1\" class=\"dataframe\">\n",
       "  <thead>\n",
       "    <tr style=\"text-align: right;\">\n",
       "      <th></th>\n",
       "      <th>variant</th>\n",
       "      <th>visits</th>\n",
       "      <th>clicks_all</th>\n",
       "      <th>click_link</th>\n",
       "      <th>conversion</th>\n",
       "    </tr>\n",
       "  </thead>\n",
       "  <tbody>\n",
       "    <tr>\n",
       "      <th>0</th>\n",
       "      <td>interact</td>\n",
       "      <td>10283</td>\n",
       "      <td>3714</td>\n",
       "      <td>42</td>\n",
       "      <td>0.011309</td>\n",
       "    </tr>\n",
       "    <tr>\n",
       "      <th>1</th>\n",
       "      <td>connect</td>\n",
       "      <td>2742</td>\n",
       "      <td>1587</td>\n",
       "      <td>53</td>\n",
       "      <td>0.033396</td>\n",
       "    </tr>\n",
       "    <tr>\n",
       "      <th>2</th>\n",
       "      <td>learn</td>\n",
       "      <td>2747</td>\n",
       "      <td>1652</td>\n",
       "      <td>21</td>\n",
       "      <td>0.012712</td>\n",
       "    </tr>\n",
       "    <tr>\n",
       "      <th>3</th>\n",
       "      <td>help</td>\n",
       "      <td>3180</td>\n",
       "      <td>1717</td>\n",
       "      <td>38</td>\n",
       "      <td>0.022132</td>\n",
       "    </tr>\n",
       "    <tr>\n",
       "      <th>4</th>\n",
       "      <td>services</td>\n",
       "      <td>2064</td>\n",
       "      <td>1348</td>\n",
       "      <td>45</td>\n",
       "      <td>0.033383</td>\n",
       "    </tr>\n",
       "  </tbody>\n",
       "</table>\n",
       "</div>"
      ],
      "text/plain": [
       "    variant  visits  clicks_all  click_link  conversion\n",
       "0  interact   10283        3714          42    0.011309\n",
       "1   connect    2742        1587          53    0.033396\n",
       "2     learn    2747        1652          21    0.012712\n",
       "3      help    3180        1717          38    0.022132\n",
       "4  services    2064        1348          45    0.033383"
      ]
     },
     "execution_count": 13,
     "metadata": {},
     "output_type": "execute_result"
    }
   ],
   "source": [
    "d = {'variant': ['interact', 'connect', 'learn', 'help', 'services'],\n",
    "    'visits': [10283, 2742, 2747, 3180, 2064],\n",
    "    'clicks_all': [3714, 1587, 1652, 1717, 1348],\n",
    "    'click_link': [42, 53, 21, 38, 45]}\n",
    "\n",
    "data = pd.DataFrame(d)\n",
    "data['conversion'] = data['click_link'] / data['clicks_all']\n",
    "data"
   ]
  },
  {
   "cell_type": "markdown",
   "metadata": {},
   "source": [
    "# 2.0 Design de experimentos"
   ]
  },
  {
   "cell_type": "markdown",
   "metadata": {},
   "source": [
    "## 2.1 Formulação da hipótese"
   ]
  },
  {
   "cell_type": "code",
   "execution_count": 3,
   "metadata": {},
   "outputs": [],
   "source": [
    "# H0: Não há nenhuma diferença entre o CTR das variantes da página\n",
    "# H1: Há uma diferença entre os CTR das variantes da página\n",
    "\n",
    "# Teste Bi-caudal"
   ]
  },
  {
   "cell_type": "markdown",
   "metadata": {},
   "source": [
    "## 2.2 Parâmetros do experimento"
   ]
  },
  {
   "cell_type": "code",
   "execution_count": 9,
   "metadata": {},
   "outputs": [],
   "source": [
    "k = len(data['clicks_all'])\n",
    "actual_dist = data['clicks_all'] / data['clicks_all'].sum()\n",
    "expected_dist = [1/k]*k\n",
    "\n",
    "effect_size = chisquare_effectsize(expected_dist, actual_dist)"
   ]
  },
  {
   "cell_type": "code",
   "execution_count": 14,
   "metadata": {},
   "outputs": [
    {
     "name": "stdout",
     "output_type": "stream",
     "text": [
      "Minimum Sampe Size per Variant: 52\n",
      "Total Sample Size: 260\n"
     ]
    }
   ],
   "source": [
    "# Sample Size\n",
    "# -- Effect Size\n",
    "# -- Alpha\n",
    "# -- Power\n",
    "alpha = 0.05\n",
    "power = 0.80\n",
    "effect_size = effect_size\n",
    "sample_size = GofChisquarePower().solve_power(effect_size=effect_size, alpha=alpha, power=power,\n",
    "                                n_bins= (2-1)*(4-1))\n",
    "sample_size = np.ceil(sample_size).astype(int)\n",
    "\n",
    "print(f'Minimum Sampe Size per Variant: {sample_size}')\n",
    "print(f'Total Sample Size: {k*sample_size}')"
   ]
  }
 ],
 "metadata": {
  "kernelspec": {
   "display_name": "Python 3.9.15 ('ab_test')",
   "language": "python",
   "name": "python3"
  },
  "language_info": {
   "codemirror_mode": {
    "name": "ipython",
    "version": 3
   },
   "file_extension": ".py",
   "mimetype": "text/x-python",
   "name": "python",
   "nbconvert_exporter": "python",
   "pygments_lexer": "ipython3",
   "version": "3.9.15"
  },
  "orig_nbformat": 4,
  "vscode": {
   "interpreter": {
    "hash": "5490ec86cf7067665fe13edd797244745b642a59563f8347e0ac4e4fed34c5cc"
   }
  }
 },
 "nbformat": 4,
 "nbformat_minor": 2
}
